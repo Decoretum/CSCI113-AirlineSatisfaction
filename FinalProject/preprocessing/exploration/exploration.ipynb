{
 "cells": [
  {
   "cell_type": "code",
   "execution_count": 2,
   "id": "2e69db76-e7d4-420e-a823-3b42d029b625",
   "metadata": {
    "tags": []
   },
   "outputs": [],
   "source": [
    "import numpy as np\n",
    "import pandas as pd\n",
    "import os\n",
    "import decimal\n",
    "from math import *\n",
    "import matplotlib as mpl\n",
    "import matplotlib.pyplot as plt"
   ]
  },
  {
   "cell_type": "markdown",
   "id": "c5573750-0b00-421f-a38d-20f94ddd3d7e",
   "metadata": {},
   "source": [
    "## Data Exploration"
   ]
  },
  {
   "cell_type": "markdown",
   "id": "4b8e272a-0a15-49b7-b0e4-a44cc09a6d6f",
   "metadata": {},
   "source": [
    "### Univariate Analysis\n",
    "For continuous variables (all of the variables excluding “Age”), develop boxplots and/or histograms independently\n",
    "For the “Age” variable, develop bar charts to identify frequencies"
   ]
  },
  {
   "cell_type": "code",
   "execution_count": null,
   "id": "649e2991-a20c-4e59-b41f-b9deb5a59d36",
   "metadata": {},
   "outputs": [],
   "source": []
  },
  {
   "cell_type": "code",
   "execution_count": null,
   "id": "796df1cc-4003-4829-b13d-c75ae1c0c739",
   "metadata": {},
   "outputs": [],
   "source": []
  },
  {
   "cell_type": "markdown",
   "id": "63c969a6-810b-402e-87ba-925672cb01fa",
   "metadata": {},
   "source": [
    "## Bivariate Analysis\n",
    "For continuous variables (all of the variables excluding “Age”), develop scatterplots and lineplots between the continuous variable in relation to the “satisfaction” variable.\n",
    "Develop a column chart between the “age” variable and the “satisfaction” variable"
   ]
  },
  {
   "cell_type": "code",
   "execution_count": null,
   "id": "ed536477-7da4-474f-a7db-cfd1ea77f75c",
   "metadata": {},
   "outputs": [],
   "source": []
  },
  {
   "cell_type": "code",
   "execution_count": null,
   "id": "9408841d-9ed3-4652-8ed1-b170d90c8581",
   "metadata": {},
   "outputs": [],
   "source": []
  },
  {
   "cell_type": "code",
   "execution_count": null,
   "id": "cd98d2cd-40ba-4b88-b06c-2e039217f608",
   "metadata": {},
   "outputs": [],
   "source": []
  }
 ],
 "metadata": {
  "kernelspec": {
   "display_name": "Python 3 (ipykernel)",
   "language": "python",
   "name": "python3"
  },
  "language_info": {
   "codemirror_mode": {
    "name": "ipython",
    "version": 3
   },
   "file_extension": ".py",
   "mimetype": "text/x-python",
   "name": "python",
   "nbconvert_exporter": "python",
   "pygments_lexer": "ipython3",
   "version": "3.9.5"
  }
 },
 "nbformat": 4,
 "nbformat_minor": 5
}
